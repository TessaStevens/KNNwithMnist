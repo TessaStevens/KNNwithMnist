{
  "nbformat": 4,
  "nbformat_minor": 0,
  "metadata": {
    "colab": {
      "name": "MNIST_Data.ipynb",
      "version": "0.3.2",
      "provenance": [],
      "collapsed_sections": []
    },
    "kernelspec": {
      "name": "python3",
      "display_name": "Python 3"
    }
  },
  "cells": [
    {
      "metadata": {
        "id": "_iGL8Zg_P66X",
        "colab_type": "code",
        "colab": {}
      },
      "cell_type": "code",
      "source": [
        "from matplotlib import pyplot as plt \n",
        "from sklearn import datasets,metrics\n",
        "from sklearn.neighbors import KNeighborsClassifier\n",
        "from keras.datasets import mnist\n"
      ],
      "execution_count": 0,
      "outputs": []
    },
    {
      "metadata": {
        "id": "CtyrUrKeP88v",
        "colab_type": "text"
      },
      "cell_type": "markdown",
      "source": [
        ""
      ]
    },
    {
      "metadata": {
        "id": "XId7rRgnSuBL",
        "colab_type": "code",
        "colab": {}
      },
      "cell_type": "code",
      "source": [
        ""
      ],
      "execution_count": 0,
      "outputs": []
    },
    {
      "metadata": {
        "id": "_P8Xw164SJME",
        "colab_type": "code",
        "outputId": "e1e79e31-38b3-436b-9703-46a3bf8da62e",
        "colab": {
          "base_uri": "https://localhost:8080/",
          "height": 402
        }
      },
      "cell_type": "code",
      "source": [
        "#Visualising the data in the MNIST dataset\n",
        "(X_data, Y_data),(X_val,Y_val) = mnist.load_data()\n",
        "print(X_data.shape)\n",
        "plt.imshow(X_data[1])\n",
        "plt.show()\n",
        "\n"
      ],
      "execution_count": 2,
      "outputs": [
        {
          "output_type": "stream",
          "text": [
            "Downloading data from https://s3.amazonaws.com/img-datasets/mnist.npz\n",
            "11493376/11490434 [==============================] - 0s 0us/step\n",
            "(60000, 28, 28)\n"
          ],
          "name": "stdout"
        },
        {
          "output_type": "display_data",
          "data": {
            "image/png": "[encoded data removed]",
            "text/plain": [
              "<matplotlib.figure.Figure at 0x7f2ba3a24f60>"
            ]
          },
          "metadata": {
            "tags": []
          }
        }
      ]
    },
    {
      "metadata": {
        "id": "MggHjs1kR1Fi",
        "colab_type": "code",
        "colab": {
          "base_uri": "https://localhost:8080/",
          "height": 90
        },
        "outputId": "78bac7ae-a661-4286-f35c-dbd0499e9a52"
      },
      "cell_type": "code",
      "source": [
        "#load data for the KNN\n",
        "digits = datasets.load_digits()\n",
        "\n",
        "#printing teh digits data at the same point\n",
        "print(digits.data[1])\n",
        "#The dataset is the numerical representation of the images in MNIST"
      ],
      "execution_count": 3,
      "outputs": [
        {
          "output_type": "stream",
          "text": [
            "[ 0.  0.  0. 12. 13.  5.  0.  0.  0.  0.  0. 11. 16.  9.  0.  0.  0.  0.\n",
            "  3. 15. 16.  6.  0.  0.  0.  7. 15. 16. 16.  2.  0.  0.  0.  0.  1. 16.\n",
            " 16.  3.  0.  0.  0.  0.  1. 16. 16.  6.  0.  0.  0.  0.  1. 16. 16.  6.\n",
            "  0.  0.  0.  0.  0. 11. 16. 10.  0.  0.]\n"
          ],
          "name": "stdout"
        }
      ]
    },
    {
      "metadata": {
        "id": "L3b_RCYJSYZm",
        "colab_type": "code",
        "colab": {}
      },
      "cell_type": "code",
      "source": [
        "#splitting dataset into smaller parts for training and testing\n",
        "training_volume = 1000\n",
        "test_volume = 500"
      ],
      "execution_count": 0,
      "outputs": []
    },
    {
      "metadata": {
        "id": "U3qe1YqwS2Po",
        "colab_type": "code",
        "colab": {
          "base_uri": "https://localhost:8080/",
          "height": 163
        },
        "outputId": "c2b30d8b-108e-4798-935b-4463392283fc"
      },
      "cell_type": "code",
      "source": [
        "#zipping together the digits and the labels\n",
        "#h=27\n",
        "images_and_labels = list(zip(digits.images,digits.target))\n",
        "print(images_and_labels[19])\n",
        "#plt.imshow(digits.images[h])\n",
        "#plt.show()"
      ],
      "execution_count": 5,
      "outputs": [
        {
          "output_type": "stream",
          "text": [
            "(array([[ 0.,  0.,  6., 14.,  4.,  0.,  0.,  0.],\n",
            "       [ 0.,  0., 11., 16., 10.,  0.,  0.,  0.],\n",
            "       [ 0.,  0.,  8., 14., 16.,  2.,  0.,  0.],\n",
            "       [ 0.,  0.,  1., 12., 12., 11.,  0.,  0.],\n",
            "       [ 0.,  0.,  0.,  0.,  0., 11.,  3.,  0.],\n",
            "       [ 0.,  0.,  0.,  0.,  0.,  5., 11.,  0.],\n",
            "       [ 0.,  0.,  1.,  4.,  4.,  7., 16.,  2.],\n",
            "       [ 0.,  0.,  7., 16., 16., 13., 11.,  1.]]), 9)\n"
          ],
          "name": "stdout"
        }
      ]
    },
    {
      "metadata": {
        "id": "QqfMyhX0TEbd",
        "colab_type": "code",
        "colab": {
          "base_uri": "https://localhost:8080/",
          "height": 324
        },
        "outputId": "403991e4-7273-4351-d694-962e782d10d7"
      },
      "cell_type": "code",
      "source": [
        "#will iterate over the first 8 digits in order in the list and print them\n",
        "for index, (image,label) in enumerate(images_and_labels[:8]):\n",
        "  plt.subplot(2,4,index+1)\n",
        "  plt.axis('off')\n",
        "  #plt.tight_layout()\n",
        "  plt.imshow(image,cmap=plt.cm.gray_r)\n",
        "  plt.title('Training: %i' %label)"
      ],
      "execution_count": 6,
      "outputs": [
        {
          "output_type": "display_data",
          "data": {
            "image/png": "[encoded data removed]",
            "text/plain": [
              "<matplotlib.figure.Figure at 0x7f2ba0c0d080>"
            ]
          },
          "metadata": {
            "tags": []
          }
        }
      ]
    },
    {
      "metadata": {
        "id": "hl3nKO12UUWy",
        "colab_type": "code",
        "colab": {
          "base_uri": "https://localhost:8080/",
          "height": 126
        },
        "outputId": "e0b5eab4-1bcd-41e5-a476-7934926da06e"
      },
      "cell_type": "code",
      "source": [
        "#Apply a classifier to the data but first need to flatten the images to their original shape\n",
        "\n",
        "print(digits.images.shape)\n",
        "\n",
        "n_samples= len(digits.images)\n",
        "data = digits.images.reshape((n_samples, -1))\n",
        "print(data.shape)\n",
        "print(data[0])\n"
      ],
      "execution_count": 14,
      "outputs": [
        {
          "output_type": "stream",
          "text": [
            "(1797, 8, 8)\n",
            "(1797, 64)\n",
            "[ 0.  0.  5. 13.  9.  1.  0.  0.  0.  0. 13. 15. 10. 15.  5.  0.  0.  3.\n",
            " 15.  2.  0. 11.  8.  0.  0.  4. 12.  0.  0.  8.  8.  0.  0.  5.  8.  0.\n",
            "  0.  9.  8.  0.  0.  4. 11.  0.  1. 12.  7.  0.  0.  2. 14.  5. 10. 12.\n",
            "  0.  0.  0.  0.  6. 13. 10.  0.  0.  0.]\n"
          ],
          "name": "stdout"
        }
      ]
    },
    {
      "metadata": {
        "id": "6kGUc_pnStQj",
        "colab_type": "code",
        "colab": {
          "base_uri": "https://localhost:8080/",
          "height": 35
        },
        "outputId": "216cbe76-bd65-4076-bd35-9c62d2e0e0bf"
      },
      "cell_type": "code",
      "source": [
        "#Creating the classifier (KNN Classifier), fit it to the training data\n",
        "\n",
        "classifier = KNeighborsClassifier(algorithm = 'brute', leaf_size=30,metric='minkowski', metric_params=None, n_jobs=1, n_neighbors=1, p=2, weights='uniform')\n",
        "\n",
        "#digits.target is an array of 0-9 values repeated in a sequence\n",
        "classifier.fit(data[:training_volume],digits.target[:training_volume])\n",
        "\n",
        "#gather the expected labels from the data set\n",
        "expected=digits.target[training_volume: (training_volume+test_volume)]\n",
        "\n",
        "#predict the labels using the model\n",
        "predicted=classifier.predict(data[training_volume: (training_volume+test_volume)])\n",
        "print(len(predicted))"
      ],
      "execution_count": 18,
      "outputs": [
        {
          "output_type": "stream",
          "text": [
            "500\n"
          ],
          "name": "stdout"
        }
      ]
    },
    {
      "metadata": {
        "id": "4rILhO2DUIYw",
        "colab_type": "code",
        "colab": {
          "base_uri": "https://localhost:8080/",
          "height": 54
        },
        "outputId": "b6080c5b-f194-4f3c-ca77-457d0edd655b"
      },
      "cell_type": "code",
      "source": [
        "#Use the two arrays to calculate accuracy using averages\n",
        "num_correct=0\n",
        "for i in range(0,len(expected)):\n",
        "  if expected[i] == predicted[i]:\n",
        "    num_correct +=1\n",
        "    \n",
        "print(\"Accuracy: \\n%s\" % str(float(num_correct) / float(len(expected))))"
      ],
      "execution_count": 20,
      "outputs": [
        {
          "output_type": "stream",
          "text": [
            "Accuracy: \n",
            "0.976\n"
          ],
          "name": "stdout"
        }
      ]
    },
    {
      "metadata": {
        "id": "rxb-9nDZVBy_",
        "colab_type": "code",
        "colab": {
          "base_uri": "https://localhost:8080/",
          "height": 617
        },
        "outputId": "cfefd85f-2c94-4d68-ae27-3020ba12e76d"
      },
      "cell_type": "code",
      "source": [
        "#Second way of determinig accuracy using metrics from SciKit Learn, probably better (or at least easier)\n",
        "print(\"Accuracy:\\n %s\" % metrics.accuracy_score(expected,predicted))\n",
        "print(\"Classification report for classifier %s \\n %s \\n\" % (classifier,metrics.classification_report(expected,predicted)))\n",
        "print(\"Confusion matric: \\n%s \\n\" % metrics.confusion_matrix(expected,predicted))"
      ],
      "execution_count": 21,
      "outputs": [
        {
          "output_type": "stream",
          "text": [
            "Accuracy:\n",
            " 0.976\n",
            "Classification report for classifier KNeighborsClassifier(algorithm='brute', leaf_size=30, metric='minkowski',\n",
            "           metric_params=None, n_jobs=1, n_neighbors=1, p=2,\n",
            "           weights='uniform') \n",
            "              precision    recall  f1-score   support\n",
            "\n",
            "          0       1.00      1.00      1.00        52\n",
            "          1       0.98      0.94      0.96        49\n",
            "          2       0.98      0.96      0.97        50\n",
            "          3       0.91      1.00      0.95        49\n",
            "          4       1.00      0.98      0.99        50\n",
            "          5       0.98      0.98      0.98        52\n",
            "          6       0.98      1.00      0.99        50\n",
            "          7       1.00      1.00      1.00        50\n",
            "          8       0.96      0.96      0.96        48\n",
            "          9       0.98      0.94      0.96        50\n",
            "\n",
            "avg / total       0.98      0.98      0.98       500\n",
            " \n",
            "\n",
            "Confusion matric: \n",
            "[[52  0  0  0  0  0  0  0  0  0]\n",
            " [ 0 46  1  0  0  0  0  0  2  0]\n",
            " [ 0  0 48  2  0  0  0  0  0  0]\n",
            " [ 0  0  0 49  0  0  0  0  0  0]\n",
            " [ 0  0  0  0 49  0  0  0  0  1]\n",
            " [ 0  0  0  0  0 51  1  0  0  0]\n",
            " [ 0  0  0  0  0  0 50  0  0  0]\n",
            " [ 0  0  0  0  0  0  0 50  0  0]\n",
            " [ 0  1  0  1  0  0  0  0 46  0]\n",
            " [ 0  0  0  2  0  1  0  0  0 47]] \n",
            "\n"
          ],
          "name": "stdout"
        }
      ]
    },
    {
      "metadata": {
        "id": "jVlxWXtFWRZK",
        "colab_type": "code",
        "colab": {}
      },
      "cell_type": "code",
      "source": [
        ""
      ],
      "execution_count": 0,
      "outputs": []
    }
  ]
}